{
 "cells": [
  {
   "cell_type": "markdown",
   "id": "d2dc476b-d30a-4765-832c-f6ad4494df24",
   "metadata": {},
   "source": [
    "# Unit 1: Conditionals\n",
    "\n",
    "1. Logical operators\n",
    "2. Conditional statements: the 'if' statement\n",
    "3. Control flows\n",
    "- 'for' loops\n",
    "- 'while' loops\n",
    "- 'list' comprehension"
   ]
  },
  {
   "cell_type": "markdown",
   "id": "0c1b1fa1-8714-49e8-8cc2-7b73c19b5726",
   "metadata": {
    "jp-MarkdownHeadingCollapsed": true,
    "tags": []
   },
   "source": [
    "### Logical operators\n",
    "This is how we define conditions for 'if' statements. They evaluate to 'True' or 'False'."
   ]
  },
  {
   "cell_type": "code",
   "execution_count": 1,
   "id": "ba80d4cc-7580-40dc-9acc-dd3a8f609d59",
   "metadata": {
    "tags": []
   },
   "outputs": [
    {
     "data": {
      "text/plain": [
       "False"
      ]
     },
     "execution_count": 1,
     "metadata": {},
     "output_type": "execute_result"
    }
   ],
   "source": [
    "# Testing for equality\n",
    "5 == 2"
   ]
  },
  {
   "cell_type": "code",
   "execution_count": 2,
   "id": "4efef1c6-854e-4109-b317-2775fbef6497",
   "metadata": {
    "tags": []
   },
   "outputs": [
    {
     "data": {
      "text/plain": [
       "True"
      ]
     },
     "execution_count": 2,
     "metadata": {},
     "output_type": "execute_result"
    }
   ],
   "source": [
    "2 == 2"
   ]
  },
  {
   "cell_type": "code",
   "execution_count": 7,
   "id": "1e91b0ef-217f-49cb-ad79-b5e2d588be58",
   "metadata": {
    "tags": []
   },
   "outputs": [
    {
     "data": {
      "text/plain": [
       "False"
      ]
     },
     "execution_count": 7,
     "metadata": {},
     "output_type": "execute_result"
    }
   ],
   "source": [
    "# Compare str to int (equality)\n",
    "'2' == 2"
   ]
  },
  {
   "cell_type": "code",
   "execution_count": 4,
   "id": "55407ac7-c96f-4b19-bd9a-3bf2005c43ef",
   "metadata": {
    "tags": []
   },
   "outputs": [
    {
     "ename": "TypeError",
     "evalue": "'<' not supported between instances of 'str' and 'int'",
     "output_type": "error",
     "traceback": [
      "\u001b[1;31m---------------------------------------------------------------------------\u001b[0m",
      "\u001b[1;31mTypeError\u001b[0m                                 Traceback (most recent call last)",
      "Cell \u001b[1;32mIn[4], line 1\u001b[0m\n\u001b[1;32m----> 1\u001b[0m \u001b[38;5;124m'\u001b[39m\u001b[38;5;124m2\u001b[39m\u001b[38;5;124m'\u001b[39m \u001b[38;5;241m<\u001b[39m \u001b[38;5;241m2\u001b[39m\n",
      "\u001b[1;31mTypeError\u001b[0m: '<' not supported between instances of 'str' and 'int'"
     ]
    }
   ],
   "source": [
    "'2' < 2"
   ]
  },
  {
   "cell_type": "code",
   "execution_count": 8,
   "id": "bf482e9a-7912-4c89-a619-a6511fa263db",
   "metadata": {
    "tags": []
   },
   "outputs": [
    {
     "data": {
      "text/plain": [
       "True"
      ]
     },
     "execution_count": 8,
     "metadata": {},
     "output_type": "execute_result"
    }
   ],
   "source": [
    "# Testing for membership\n",
    "2 in [1, 2, 3]"
   ]
  },
  {
   "cell_type": "code",
   "execution_count": 6,
   "id": "83b36493-c761-4792-817d-9474bf3473d5",
   "metadata": {
    "tags": []
   },
   "outputs": [
    {
     "data": {
      "text/plain": [
       "False"
      ]
     },
     "execution_count": 6,
     "metadata": {},
     "output_type": "execute_result"
    }
   ],
   "source": [
    "2 not in [1, 2, 3]"
   ]
  },
  {
   "cell_type": "code",
   "execution_count": 9,
   "id": "b73ecd87-4e04-4e00-b6db-648c988e3719",
   "metadata": {
    "tags": []
   },
   "outputs": [
    {
     "data": {
      "text/plain": [
       "True"
      ]
     },
     "execution_count": 9,
     "metadata": {},
     "output_type": "execute_result"
    }
   ],
   "source": [
    "# Testing for inequality\n",
    "2 != 5"
   ]
  },
  {
   "cell_type": "code",
   "execution_count": 10,
   "id": "65e6ec72-c652-4258-9d44-7f519e5ea865",
   "metadata": {
    "tags": []
   },
   "outputs": [
    {
     "data": {
      "text/plain": [
       "True"
      ]
     },
     "execution_count": 10,
     "metadata": {},
     "output_type": "execute_result"
    }
   ],
   "source": [
    "# Composite logical statements: and\n",
    "2 == 2 and 5 == 5"
   ]
  },
  {
   "cell_type": "code",
   "execution_count": 11,
   "id": "4f10f2a6-ec13-4f9b-a26a-1fe1a7a1167b",
   "metadata": {
    "tags": []
   },
   "outputs": [
    {
     "data": {
      "text/plain": [
       "True"
      ]
     },
     "execution_count": 11,
     "metadata": {},
     "output_type": "execute_result"
    }
   ],
   "source": [
    "2 == 2 or 4 == 5"
   ]
  },
  {
   "cell_type": "markdown",
   "id": "9ccdcc26-9477-479b-bf7c-99c9d54c8de6",
   "metadata": {
    "jp-MarkdownHeadingCollapsed": true,
    "tags": []
   },
   "source": [
    "### Conditionals\n",
    "Conditionals have an 'if-else' structure. The program performs an operation (or more) if certain conditions are met."
   ]
  },
  {
   "cell_type": "code",
   "execution_count": 16,
   "id": "f58c34de-d2d4-4610-9d0f-e34af5aac1ea",
   "metadata": {
    "tags": []
   },
   "outputs": [],
   "source": [
    "# Import libraries\n",
    "import random"
   ]
  },
  {
   "cell_type": "code",
   "execution_count": 19,
   "id": "eb9e11a5-e3d8-47f9-8114-1dae58e6d69e",
   "metadata": {
    "tags": []
   },
   "outputs": [
    {
     "name": "stdout",
     "output_type": "stream",
     "text": [
      "20\n"
     ]
    }
   ],
   "source": [
    "# Generate random numbers\n",
    "random_number = random.randint(20, 34)\n",
    "print(random_number)"
   ]
  },
  {
   "cell_type": "code",
   "execution_count": 20,
   "id": "37637393-a4d1-40bd-b023-c83b099d3b57",
   "metadata": {
    "tags": []
   },
   "outputs": [
    {
     "name": "stdout",
     "output_type": "stream",
     "text": [
      "The number is small.\n"
     ]
    }
   ],
   "source": [
    "# Print message depending on value of random_number\n",
    "if random_number < 25:\n",
    "    print(\"The number is small.\")\n",
    "elif random_number < 30:\n",
    "    print(\"The number is moderatley high.\")\n",
    "else:\n",
    "    print(\"It's a large number.\")"
   ]
  },
  {
   "cell_type": "code",
   "execution_count": 35,
   "id": "1911dc41-6f80-4079-8dc1-275578e34963",
   "metadata": {
    "tags": []
   },
   "outputs": [
    {
     "name": "stdout",
     "output_type": "stream",
     "text": [
      "random_number1 is large.\n"
     ]
    }
   ],
   "source": [
    "# Nesting if statements\n",
    "random_number1 = random.randint(1, 12)\n",
    "random_number2 = random.randint(1, 16)\n",
    "\n",
    "if random_number1 > 6:\n",
    "    print(\"random_number1 is large.\")\n",
    "    \n",
    "    if random_number2 > random_number1:\n",
    "        print(\"random_number2 is larger than random_number1\")"
   ]
  },
  {
   "cell_type": "code",
   "execution_count": 33,
   "id": "12f8ff23-3f83-4f99-832f-06cb5aab6dfa",
   "metadata": {
    "tags": []
   },
   "outputs": [
    {
     "name": "stdout",
     "output_type": "stream",
     "text": [
      "random_number1 is large.\n",
      "random_number2 is larger than random_number1.\n"
     ]
    }
   ],
   "source": [
    "random_number1 = random.randint(1, 12)\n",
    "random_number2 = random.randint(1, 16)\n",
    "\n",
    "if random_number1 > 6 and random_number2 > random_number1:\n",
    "    print(\"random_number1 is large.\")\n",
    "    print(\"random_number2 is larger than random_number1.\")"
   ]
  },
  {
   "cell_type": "markdown",
   "id": "02cb2f78-46f2-4682-9b1b-e7aae1d268c1",
   "metadata": {
    "jp-MarkdownHeadingCollapsed": true,
    "tags": []
   },
   "source": [
    "### Loops: the 'for' loop\n",
    "'for' loops can operate on iterables."
   ]
  },
  {
   "cell_type": "code",
   "execution_count": 37,
   "id": "942967ec-9f48-43b1-b0f2-d75884dcd327",
   "metadata": {
    "tags": []
   },
   "outputs": [],
   "source": [
    "# Define an iterable\n",
    "my_list = [1, 2, 3, 4]"
   ]
  },
  {
   "cell_type": "code",
   "execution_count": 40,
   "id": "92f95ced-f4dd-4952-952a-ef1027843c36",
   "metadata": {
    "tags": []
   },
   "outputs": [
    {
     "name": "stdout",
     "output_type": "stream",
     "text": [
      "1\n",
      "2\n",
      "3\n",
      "4\n"
     ]
    }
   ],
   "source": [
    "# Define for loop over my_list\n",
    "for i in my_list:\n",
    "    print(i)"
   ]
  },
  {
   "cell_type": "code",
   "execution_count": 43,
   "id": "a2f86bc4-16af-45e5-9746-681bdfc7f82d",
   "metadata": {
    "tags": []
   },
   "outputs": [
    {
     "name": "stdout",
     "output_type": "stream",
     "text": [
      "0 is even.\n",
      "1 is odd.\n",
      "2 is even.\n",
      "3 is odd.\n",
      "4 is even.\n",
      "5 is odd.\n",
      "6 is even.\n",
      "7 is odd.\n",
      "8 is even.\n",
      "9 is odd.\n",
      "10 is even.\n",
      "11 is odd.\n",
      "12 is even.\n",
      "13 is odd.\n",
      "14 is even.\n",
      "15 is odd.\n",
      "16 is even.\n",
      "17 is odd.\n",
      "18 is even.\n",
      "19 is odd.\n"
     ]
    }
   ],
   "source": [
    "# Introduce the range() function\n",
    "for i in range(20):\n",
    "    if i%2 == 0:\n",
    "        print(i, \"is even.\")\n",
    "    else:\n",
    "        print(i, \"is odd.\")"
   ]
  },
  {
   "cell_type": "code",
   "execution_count": 44,
   "id": "695bb924-c304-42a8-9440-21fd35907720",
   "metadata": {
    "tags": []
   },
   "outputs": [
    {
     "name": "stdout",
     "output_type": "stream",
     "text": [
      "Business 8\n",
      "Analytics 9\n",
      "with 4\n",
      "Python 6\n"
     ]
    }
   ],
   "source": [
    "# for loop over list with strings\n",
    "for word in [\"Business\", \"Analytics\", \"with\", \"Python\"]:\n",
    "    print(word, len(word))"
   ]
  },
  {
   "cell_type": "code",
   "execution_count": 48,
   "id": "3ad32eef-eaee-4349-bcc5-0674871c1f2d",
   "metadata": {
    "tags": []
   },
   "outputs": [
    {
     "name": "stdout",
     "output_type": "stream",
     "text": [
      "0 a\n",
      "1 b\n",
      "2 c\n"
     ]
    }
   ],
   "source": [
    "# for loop using the enumerate() function\n",
    "for index, value in enumerate(['a', 'b', 'c', 'd']):\n",
    "    if index < 3:\n",
    "        print(index, value)"
   ]
  },
  {
   "cell_type": "code",
   "execution_count": 54,
   "id": "a12c29ed-dec3-437b-8e6f-c8188ee455d2",
   "metadata": {
    "tags": []
   },
   "outputs": [
    {
     "name": "stdout",
     "output_type": "stream",
     "text": [
      "['A', 'B', 'C', 'D', 'E', 'F', 'G', 'H', 'I', 'J', 'K', 'L', 'M', 'N', 'O', 'P', 'Q', 'R', 'S', 'T', 'U', 'V', 'W', 'X', 'Y', 'Z']\n"
     ]
    }
   ],
   "source": [
    "# using a for loop to dynamically create a list\n",
    "capital_letters = []\n",
    "\n",
    "for i in range(65, 91):\n",
    "    capital_letters.append(chr(i))\n",
    "    \n",
    "print(capital_letters)"
   ]
  },
  {
   "cell_type": "markdown",
   "id": "838736dc-4898-445b-8560-e686a3579b4c",
   "metadata": {},
   "source": [
    "### List of comprehension\n",
    "They are a handy way to generate lists"
   ]
  },
  {
   "cell_type": "code",
   "execution_count": 55,
   "id": "1ff01a47-27d1-4844-bb9c-3adea89c84e4",
   "metadata": {
    "tags": []
   },
   "outputs": [],
   "source": [
    "squares = [x**2 for x in range(0, 10)]"
   ]
  },
  {
   "cell_type": "code",
   "execution_count": 56,
   "id": "868bc3bd-d932-4fb8-b79e-7c1db1069cf3",
   "metadata": {
    "tags": []
   },
   "outputs": [
    {
     "data": {
      "text/plain": [
       "[0, 1, 4, 9, 16, 25, 36, 49, 64, 81]"
      ]
     },
     "execution_count": 56,
     "metadata": {},
     "output_type": "execute_result"
    }
   ],
   "source": [
    "squares"
   ]
  },
  {
   "cell_type": "code",
   "execution_count": 58,
   "id": "f852c569-bffb-4502-abc4-7317a0d1898c",
   "metadata": {
    "tags": []
   },
   "outputs": [],
   "source": [
    "# Get list of even squares from 0 to 9\n",
    "even_squares = [square for square in squares if square%2 == 0]"
   ]
  },
  {
   "cell_type": "code",
   "execution_count": 59,
   "id": "0f1919d0-96b0-4787-968a-a7e55e5ec2fb",
   "metadata": {
    "tags": []
   },
   "outputs": [
    {
     "data": {
      "text/plain": [
       "[0, 4, 16, 36, 64]"
      ]
     },
     "execution_count": 59,
     "metadata": {},
     "output_type": "execute_result"
    }
   ],
   "source": [
    "even_squares"
   ]
  },
  {
   "cell_type": "code",
   "execution_count": 63,
   "id": "c092b3ad-6dad-4e98-8911-b903d8ef6518",
   "metadata": {
    "tags": []
   },
   "outputs": [],
   "source": [
    "# We can also use if-else statements on list comprehensions\n",
    "even_odd_str = ['even' if square%2 == 0 \n",
    "                else 'odd' \n",
    "                for square in squares]"
   ]
  },
  {
   "cell_type": "code",
   "execution_count": null,
   "id": "6f582707-7712-426c-ba88-f6fe662a58eb",
   "metadata": {},
   "outputs": [],
   "source": []
  }
 ],
 "metadata": {
  "kernelspec": {
   "display_name": "Python 3 (ipykernel)",
   "language": "python",
   "name": "python3"
  },
  "language_info": {
   "codemirror_mode": {
    "name": "ipython",
    "version": 3
   },
   "file_extension": ".py",
   "mimetype": "text/x-python",
   "name": "python",
   "nbconvert_exporter": "python",
   "pygments_lexer": "ipython3",
   "version": "3.11.4"
  }
 },
 "nbformat": 4,
 "nbformat_minor": 5
}
