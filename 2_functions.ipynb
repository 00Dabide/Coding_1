{
 "cells": [
  {
   "cell_type": "markdown",
   "id": "0a7ecd50-3a5b-490b-b386-1c97581dd231",
   "metadata": {},
   "source": [
    "# Functions"
   ]
  },
  {
   "cell_type": "code",
   "execution_count": 1,
   "id": "2cc9ebd3-5f3d-4199-89dc-410219786af0",
   "metadata": {
    "tags": []
   },
   "outputs": [],
   "source": [
    "# Let's define our fist function that takes a number and adds one.\n",
    "def add_one(number):\n",
    "    \n",
    "    # Add one to number\n",
    "    number_plus_one = number + 1\n",
    "    \n",
    "    #Return result\n",
    "    return number_plus_one"
   ]
  },
  {
   "cell_type": "code",
   "execution_count": 2,
   "id": "c00a65d3-0e45-494e-81e8-5b9a82c56951",
   "metadata": {
    "tags": []
   },
   "outputs": [
    {
     "data": {
      "text/plain": [
       "6"
      ]
     },
     "execution_count": 2,
     "metadata": {},
     "output_type": "execute_result"
    }
   ],
   "source": [
    "# General structure of functions\n",
    "def func_name(input1, input2, ..., unputN):\n",
    "    \n",
    "    #function body\n",
    "    \n",
    "    return result"
   ]
  },
  {
   "cell_type": "code",
   "execution_count": 3,
   "id": "7afcf698-e400-49f4-8086-2b875a7ecc04",
   "metadata": {
    "tags": []
   },
   "outputs": [],
   "source": [
    "# Functions return more than one output\n",
    "def add_one_return_both(num1):\n",
    "    \n",
    "    # Add one tu num1\n",
    "    num2 = num1 + 1\n",
    "    \n",
    "    return num1, num2"
   ]
  },
  {
   "cell_type": "code",
   "execution_count": 5,
   "id": "aed82b84-0750-4b46-bc4a-a0c430a64f70",
   "metadata": {
    "tags": []
   },
   "outputs": [
    {
     "name": "stdout",
     "output_type": "stream",
     "text": [
      "5 6\n"
     ]
    }
   ],
   "source": [
    "x, y = add_one_return_both(5)\n",
    "\n",
    "print(x, y)"
   ]
  },
  {
   "cell_type": "code",
   "execution_count": 6,
   "id": "3aaaeb86-5c22-450d-af26-1c153ff3c713",
   "metadata": {
    "tags": []
   },
   "outputs": [],
   "source": [
    "#Functions with default value\n",
    "\n",
    "def num_pow(num, exponent=2):\n",
    "    \n",
    "    return num ** exponent"
   ]
  },
  {
   "cell_type": "code",
   "execution_count": 7,
   "id": "f8ed70dc-903d-4f1b-b963-e3f8d498953f",
   "metadata": {
    "tags": []
   },
   "outputs": [
    {
     "data": {
      "text/plain": [
       "9"
      ]
     },
     "execution_count": 7,
     "metadata": {},
     "output_type": "execute_result"
    }
   ],
   "source": [
    "num_pow(3)"
   ]
  },
  {
   "cell_type": "code",
   "execution_count": 8,
   "id": "1c390ba7-76f4-419a-987e-dfb31a90eb22",
   "metadata": {
    "tags": []
   },
   "outputs": [
    {
     "data": {
      "text/plain": [
       "27"
      ]
     },
     "execution_count": 8,
     "metadata": {},
     "output_type": "execute_result"
    }
   ],
   "source": [
    "num_pow(3,3)"
   ]
  },
  {
   "cell_type": "code",
   "execution_count": 9,
   "id": "1207641f-44cf-47d3-a4c6-2aa11df7646d",
   "metadata": {
    "tags": []
   },
   "outputs": [],
   "source": [
    "#Functions can take a variable number of arguments\n",
    "def add_all_numbers(*numbers):\n",
    "    \n",
    "    #What is the object type of *numbers?\n",
    "    print(type(numbers))\n",
    "    \n",
    "    #initialize counter that collect sum of numbers\n",
    "    total = 0\n",
    "    \n",
    "    #add up all numbers\n",
    "    for nr in numbers:\n",
    "        total += nr\n",
    "    \n",
    "    return total"
   ]
  },
  {
   "cell_type": "code",
   "execution_count": 10,
   "id": "80152c64-5122-48f1-b0e4-b1293addff2b",
   "metadata": {
    "tags": []
   },
   "outputs": [
    {
     "name": "stdout",
     "output_type": "stream",
     "text": [
      "<class 'tuple'>\n"
     ]
    },
    {
     "data": {
      "text/plain": [
       "9"
      ]
     },
     "execution_count": 10,
     "metadata": {},
     "output_type": "execute_result"
    }
   ],
   "source": [
    "add_all_numbers(3,2,4)"
   ]
  },
  {
   "cell_type": "code",
   "execution_count": 14,
   "id": "d0734122-9acb-4743-851b-6e25555a65d1",
   "metadata": {
    "tags": []
   },
   "outputs": [
    {
     "name": "stdout",
     "output_type": "stream",
     "text": [
      "<class 'tuple'>\n"
     ]
    },
    {
     "data": {
      "text/plain": [
       "17"
      ]
     },
     "execution_count": 14,
     "metadata": {},
     "output_type": "execute_result"
    }
   ],
   "source": [
    "add_all_numbers(3,5,1,8)"
   ]
  },
  {
   "cell_type": "code",
   "execution_count": null,
   "id": "94e05304-2a93-43c3-8071-98d1d1098407",
   "metadata": {},
   "outputs": [],
   "source": []
  }
 ],
 "metadata": {
  "kernelspec": {
   "display_name": "Python 3 (ipykernel)",
   "language": "python",
   "name": "python3"
  },
  "language_info": {
   "codemirror_mode": {
    "name": "ipython",
    "version": 3
   },
   "file_extension": ".py",
   "mimetype": "text/x-python",
   "name": "python",
   "nbconvert_exporter": "python",
   "pygments_lexer": "ipython3",
   "version": "3.11.4"
  }
 },
 "nbformat": 4,
 "nbformat_minor": 5
}
